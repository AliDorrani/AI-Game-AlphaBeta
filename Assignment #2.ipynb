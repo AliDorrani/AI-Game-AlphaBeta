{
 "cells": [
  {
   "cell_type": "markdown",
   "metadata": {},
   "source": [
    "# MiniMax Player Developement"
   ]
  },
  {
   "cell_type": "markdown",
   "metadata": {},
   "source": [
    "As in the project text asked, initialize method initial side, name (Ai Player), depth and opponent.\n",
    "In the getMove method I called max_value method to start playing the game. \n",
    "min_value and max_value methods are similare. But first I prefer to explain about evaluation function. evaluation function take board and generate availabe moves for player and opponent. Then function counts number of 'W' and 'B'. Winning situation is the situation that opponent doesn't have any move to do. Good situation is the situation that the opponent has less available move than we have and bad situation is the situation that opponent has more available move than we have. So we can use len() available move for each player to calculate evaluation. Also for normalization I divide diffrence of lens by sum of those two.\n",
    "\n"
   ]
  },
  {
   "cell_type": "markdown",
   "metadata": {},
   "source": [
    "I assigned 10 For minimizer and -10 for maximizer to use as comparing value. So the program is constant value."
   ]
  },
  {
   "cell_type": "markdown",
   "metadata": {},
   "source": [
    "In 'value' functions after evaluating, function goes to deeper level and passed into opposite function and replacing values with max and min values where needed."
   ]
  },
  {
   "cell_type": "markdown",
   "metadata": {},
   "source": [
    "# Timing "
   ]
  },
  {
   "cell_type": "markdown",
   "metadata": {},
   "source": [
    "Total duration for MiniMax algorithm is : 2.9051430225372314\n",
    "\n",
    "\n",
    "\n",
    "Total duration for Alpha-Beta algorithm is : 0.6108052730560303\n",
    "\n",
    "Alpha-Beta Algorithm is much faster than MiniMax algorithm because Alpha-Beta algorithm limits and optimizes Search_Tree to choose the best movement.\n"
   ]
  },
  {
   "cell_type": "code",
   "execution_count": null,
   "metadata": {},
   "outputs": [],
   "source": [
    "class MinimaxPlayer (Player,Game):\n",
    "    def initialize(self,side):\n",
    "        self.side = side\n",
    "        self.name = \"Ai Player\"\n",
    "        self.depth = 0\n",
    "\n",
    "        self.me = side\n",
    "        self.enemy = self.opponent(self.side)\n",
    "    \n",
    "    def getMove(self,board):\n",
    "        value,path = self.max_value(board)\n",
    "        return path\n",
    "\n",
    "    \n",
    "\n",
    "    def min_value(self,board):\n",
    "\n",
    "        value = self.evaluationFunc(board)\n",
    "        if(value != \"none\"):\n",
    "            return value, []\n",
    "        minmoves = self.generateMoves(board,self.enemy)\n",
    "        \n",
    "        minValue = 10\n",
    "        bestPath = []\n",
    "\n",
    "\n",
    "        \n",
    "        for move in minmoves:\n",
    "            self.depth +=1\n",
    "            value,path = self.max_value(self.nextBoard(board,self.enemy,move))\n",
    "            self.depth += -1\n",
    "\n",
    "            if(value < minValue):\n",
    "                minValue = value\n",
    "                bestPath = move\n",
    "\n",
    "        return minValue,bestPath\n",
    "        \n",
    "\n",
    "    def max_value(self,board):\n",
    "        \n",
    "        value = self.evaluationFunc(board)\n",
    "        if(value != \"none\"):\n",
    "            return value, []\n",
    "        maxmoves = self.generateMoves(board,self.me)\n",
    "        \n",
    "        maxValue = -10\n",
    "        bestPath = []\n",
    "\n",
    "        for move in maxmoves:\n",
    "            self.depth +=1\n",
    "            value,path = self.min_value(self.nextBoard(board,self.me,move))\n",
    "            self.depth += -1\n",
    "\n",
    "            if(value > maxValue):\n",
    "                maxValue = value\n",
    "                bestPath = move\n",
    "\n",
    "        return maxValue,bestPath\n",
    "\n",
    "        \n",
    "        \n",
    "    def evaluationFunc(self,board):\n",
    "        maxMoves = self.generateMoves(board,self.me)\n",
    "        minMoves = self.generateMoves(board,self.enemy)\n",
    "\n",
    "        me = 0\n",
    "        enemy = 0\n",
    "\n",
    "        for i in range(0,len(board)):\n",
    "            for j in range(0,len(board[i])):\n",
    "                if board[i][j] == self.side:\n",
    "                    me = me + 1\n",
    "                elif board[i][j] == self.opponent(self.side):\n",
    "                    enemy = enemy + 1\n",
    "        \n",
    "\n",
    "        if(len(maxMoves) == 0):\n",
    "            return -1\n",
    "        if(len(minMoves) == 0):\n",
    "            return 1\n",
    "        if(self.depth == 3):\n",
    "            return (len(maxMoves)-len(minMoves))/(len(maxMoves)+len(minMoves))\n",
    "        \n",
    "        return \"none\"\n"
   ]
  },
  {
   "cell_type": "code",
   "execution_count": null,
   "metadata": {},
   "outputs": [],
   "source": []
  }
 ],
 "metadata": {
  "kernelspec": {
   "display_name": "Python 3",
   "language": "python",
   "name": "python3"
  },
  "language_info": {
   "codemirror_mode": {
    "name": "ipython",
    "version": 3
   },
   "file_extension": ".py",
   "mimetype": "text/x-python",
   "name": "python",
   "nbconvert_exporter": "python",
   "pygments_lexer": "ipython3",
   "version": "3.6.8"
  }
 },
 "nbformat": 4,
 "nbformat_minor": 2
}
